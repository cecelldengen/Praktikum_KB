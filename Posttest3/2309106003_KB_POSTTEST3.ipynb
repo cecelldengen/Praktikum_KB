{
 "cells": [
  {
   "cell_type": "code",
   "execution_count": 67,
   "id": "07105b6b",
   "metadata": {},
   "outputs": [],
   "source": [
    "import pandas as pd\n",
    "import numpy as np\n",
    "import matplotlib.pyplot as plt\n",
    "import seaborn as sns\n",
    "from sklearn.preprocessing import OneHotEncoder\n",
    "from sklearn.model_selection import train_test_split\n"
   ]
  },
  {
   "cell_type": "code",
   "execution_count": 68,
   "id": "84ac37a2",
   "metadata": {},
   "outputs": [],
   "source": [
    "CSV_PATH = \"data_penjualan.csv\"   \n",
    "DELIMITER = \";\"                  \n",
    "SAVE_CLEANED_CSV = True          \n",
    "CLEANED_CSV_PATH = \"data_penjualan_clean.csv\"\n"
   ]
  },
  {
   "cell_type": "code",
   "execution_count": 69,
   "id": "5282c270",
   "metadata": {},
   "outputs": [
    {
     "name": "stdout",
     "output_type": "stream",
     "text": [
      "\n",
      "[Data Penjualan Sebelum Cleaning]\n",
      "      Tanggal      Jenis Produk  Jumlah Order  Harga    Total\n",
      "0  05/08/2022        Foodpak260          1000   1800  1800000\n",
      "1  05/08/2022   FoodpakMatte245          1000   1900  1900000\n",
      "2  05/08/2022  CraftLaminasi290          5000    750  3750000\n",
      "3  05/08/2022  CraftLaminasi290          1000   1200  1200000\n",
      "4  07/08/2022        Dupleks310          1000   1550  1550000\n"
     ]
    }
   ],
   "source": [
    "df = pd.read_csv(CSV_PATH, delimiter=DELIMITER)\n",
    "\n",
    "print(\"\\n[Data Penjualan Sebelum Cleaning]\")\n",
    "print(df.head())\n"
   ]
  },
  {
   "cell_type": "code",
   "execution_count": 70,
   "id": "237f604d",
   "metadata": {},
   "outputs": [
    {
     "name": "stdout",
     "output_type": "stream",
     "text": [
      "\n",
      "[Cleaning] Baris NaT pada 'Tanggal' dihapus: 0 baris\n",
      "[Cleaning] Jumlah baris duplikat terdeteksi: 40\n",
      "\n",
      "[Missing Values per Kolom]\n",
      "Tanggal         0\n",
      "Jenis Produk    0\n",
      "Jumlah Order    0\n",
      "Harga           0\n",
      "Total           0\n",
      "dtype: int64\n"
     ]
    }
   ],
   "source": [
    "# 2. Data Cleaning\n",
    "if \"Tanggal\" in df.columns:\n",
    "    df[\"Tanggal\"] = pd.to_datetime(df[\"Tanggal\"], format=\"%d/%m/%Y\", errors=\"coerce\")\n",
    "if \"Jenis Produk\" in df.columns:\n",
    "    df[\"Jenis Produk\"] = (\n",
    "        df[\"Jenis Produk\"]\n",
    "        .astype(str)\n",
    "        .str.strip()\n",
    "        .str.title()\n",
    "    )\n",
    "if \"Tanggal\" in df.columns:\n",
    "    before_drop = df.shape[0]\n",
    "    df = df.dropna(subset=[\"Tanggal\"]).reset_index(drop=True)\n",
    "    after_drop = df.shape[0]\n",
    "    print(f\"\\n[Cleaning] Baris NaT pada 'Tanggal' dihapus: {before_drop - after_drop} baris\")\n",
    "\n",
    "dup = df.duplicated().sum()\n",
    "print(f\"[Cleaning] Jumlah baris duplikat terdeteksi: {dup}\")\n",
    "df = df.drop_duplicates().reset_index(drop=True)\n",
    "\n",
    "print(\"\\n[Missing Values per Kolom]\")\n",
    "print(df.isnull().sum())"
   ]
  },
  {
   "cell_type": "code",
   "execution_count": null,
   "id": "d36702ad",
   "metadata": {},
   "outputs": [
    {
     "name": "stdout",
     "output_type": "stream",
     "text": [
      "Jumlah data sebelum: 1036\n",
      "Jumlah data sesudah: 897\n",
      "Jumlah data outlier dihapus: 139\n"
     ]
    }
   ],
   "source": [
    "# 3. Menangani Outlier\n",
    "def iqr_bounds(series, k=1.5):\n",
    "    q1 = series.quantile(0.25)\n",
    "    q3 = series.quantile(0.75)\n",
    "    iqr = q3 - q1\n",
    "    lower = q1 - k * iqr\n",
    "    upper = q3 + k * iqr\n",
    "    return lower, upper\n",
    "\n",
    "numeric_cols = df.select_dtypes(include=[\"number\"]).columns.tolist()\n",
    "\n",
    "mask = pd.Series(True, index=df.index)\n",
    "for col in numeric_cols:\n",
    "    if df[col].notna().sum() < 5: \n",
    "        continue\n",
    "    lower, upper = iqr_bounds(df[col])\n",
    "    mask &= (df[col] >= lower) & (df[col] <= upper)\n",
    "\n",
    "before = df.shape[0]\n",
    "df = df[mask].reset_index(drop=True)\n",
    "after = df.shape[0]\n",
    "\n",
    "print(f\"Jumlah data sebelum: {before}\")\n",
    "print(f\"Jumlah data sesudah: {after}\")\n",
    "print(f\"Jumlah data outlier dihapus: {before - after}\")"
   ]
  },
  {
   "cell_type": "code",
   "execution_count": 72,
   "id": "24603d0a",
   "metadata": {},
   "outputs": [
    {
     "name": "stdout",
     "output_type": "stream",
     "text": [
      "\n",
      "[Saved] Dataset cleaned tersimpan ke: data_penjualan_clean.csv\n"
     ]
    }
   ],
   "source": [
    "# 3. Data Standardization (untuk kolom numerik)\n",
    "numeric_cols = df.select_dtypes(include=[\"int64\", \"float64\"]).columns.tolist()\n",
    "df_std = df.copy()\n",
    "for c in numeric_cols:\n",
    "    mu = df[c].mean()\n",
    "    sigma = df[c].std(ddof=1)\n",
    "    if sigma and sigma != 0:\n",
    "        df_std[c] = (df[c] - mu) / sigma\n",
    "    else:\n",
    "        df_std[c] = 0.0\n",
    "\n",
    "if SAVE_CLEANED_CSV:\n",
    "    df.to_csv(CLEANED_CSV_PATH, index=False)\n",
    "    print(f\"\\n[Saved] Dataset cleaned tersimpan ke: {CLEANED_CSV_PATH}\")"
   ]
  },
  {
   "cell_type": "code",
   "execution_count": null,
   "id": "ab18e166",
   "metadata": {},
   "outputs": [
    {
     "name": "stdout",
     "output_type": "stream",
     "text": [
      "\n",
      "[STATISTIK DESKRIPTIF - NUMERIK]\n",
      "              count          mean           std      min         Q1  \\\n",
      "Jumlah Order  897.0  1.414486e+03  7.006939e+02    100.0     1000.0   \n",
      "Harga         897.0  1.446047e+03  6.048334e+02    100.0      975.0   \n",
      "Total         897.0  1.932677e+06  1.016027e+06  15376.0  1250000.0   \n",
      "\n",
      "                     Q2         Q3        max  \n",
      "Jumlah Order     1000.0     2000.0     3500.0  \n",
      "Harga            1500.0     1800.0     3050.0  \n",
      "Total         1750000.0  2500000.0  5400000.0  \n",
      "\n",
      "[10 RECORD PERTAMA - ATRIBUT NUMERIK]\n",
      "   Jumlah Order  Harga    Total\n",
      "0          1000   1800  1800000\n",
      "1          1000   1900  1900000\n",
      "2          1000   1200  1200000\n",
      "3          1000   1550  1550000\n",
      "4           500   1900   950000\n",
      "5          1000   1700  1700000\n",
      "6          1000   1000  1000000\n",
      "7          1500    850  1275000\n",
      "8           500   1800   900000\n",
      "9           500   1600   800000\n"
     ]
    }
   ],
   "source": [
    "# Menampilkan statistik deskriptif\n",
    "stats = df[numeric_cols].describe(percentiles=[0.25, 0.5, 0.75]).T\n",
    "stats = stats.rename(columns={\"25%\": \"Q1\", \"50%\": \"Q2\", \"75%\": \"Q3\"})\n",
    "\n",
    "print(\"\\n[STATISTIK DESKRIPTIF - NUMERIK]\")\n",
    "print(stats[[\"count\", \"mean\", \"std\", \"min\", \"Q1\", \"Q2\", \"Q3\", \"max\"]])\n",
    "\n",
    "print(\"\\n[10 RECORD PERTAMA - ATRIBUT NUMERIK]\")\n",
    "print(df[numeric_cols].head(10))"
   ]
  },
  {
   "cell_type": "code",
   "execution_count": 74,
   "id": "f9c73f1d",
   "metadata": {},
   "outputs": [
    {
     "name": "stdout",
     "output_type": "stream",
     "text": [
      "Kolom numerik : ['Jumlah Order', 'Harga', 'Total', 'Tahun', 'Bulan', 'Hari', 'Hari_ke', 'Hari_dalam_minggu']\n",
      "Kolom kategorikal : ['Jenis Produk']\n",
      "\n",
      "=== Data Setelah Encoding (dengan fitur waktu) ===\n",
      "   Jumlah Order  Harga    Total  Tahun  Bulan  Hari  Hari_ke  \\\n",
      "0          1000   1800  1800000   2022      8     5      217   \n",
      "1          1000   1900  1900000   2022      8     5      217   \n",
      "2          1000   1200  1200000   2022      8     5      217   \n",
      "3          1000   1550  1550000   2022      8     7      219   \n",
      "4           500   1900   950000   2022      8     8      220   \n",
      "\n",
      "   Hari_dalam_minggu  Jenis Produk_245  Jenis Produk_260Glossy  ...  \\\n",
      "0                  4               0.0                     0.0  ...   \n",
      "1                  4               0.0                     0.0  ...   \n",
      "2                  4               0.0                     0.0  ...   \n",
      "3                  6               0.0                     0.0  ...   \n",
      "4                  0               0.0                     0.0  ...   \n",
      "\n",
      "   Jenis Produk_Kinstruk130  Jenis Produk_Kinstruk150  \\\n",
      "0                       0.0                       0.0   \n",
      "1                       0.0                       0.0   \n",
      "2                       0.0                       0.0   \n",
      "3                       0.0                       0.0   \n",
      "4                       0.0                       0.0   \n",
      "\n",
      "   Jenis Produk_Kinstruk150Gsm  Jenis Produk_Kinstruk250  \\\n",
      "0                          0.0                       0.0   \n",
      "1                          0.0                       0.0   \n",
      "2                          0.0                       0.0   \n",
      "3                          0.0                       0.0   \n",
      "4                          0.0                       0.0   \n",
      "\n",
      "   Jenis Produk_Papercup8Oz  Jenis Produk_Ptsariindah  \\\n",
      "0                       0.0                       0.0   \n",
      "1                       0.0                       0.0   \n",
      "2                       0.0                       0.0   \n",
      "3                       0.0                       0.0   \n",
      "4                       0.0                       0.0   \n",
      "\n",
      "   Jenis Produk_Sisakertas  Jenis Produk_Stikerkertas  \\\n",
      "0                      0.0                        0.0   \n",
      "1                      0.0                        0.0   \n",
      "2                      0.0                        0.0   \n",
      "3                      0.0                        0.0   \n",
      "4                      0.0                        0.0   \n",
      "\n",
      "   Jenis Produk_Unbleached  Jenis Produk_Unbleaching  \n",
      "0                      0.0                       0.0  \n",
      "1                      0.0                       0.0  \n",
      "2                      0.0                       0.0  \n",
      "3                      0.0                       0.0  \n",
      "4                      0.0                       0.0  \n",
      "\n",
      "[5 rows x 90 columns]\n",
      "\n",
      "Jumlah kolom sesudah encoding : 90\n"
     ]
    }
   ],
   "source": [
    "# ubah kolom tanggal ke tipe datetime\n",
    "df['Tanggal'] = pd.to_datetime(df['Tanggal'], errors='coerce')\n",
    "\n",
    "# buat fitur turunan waktu\n",
    "df['Tahun'] = df['Tanggal'].dt.year\n",
    "df['Bulan'] = df['Tanggal'].dt.month\n",
    "df['Hari'] = df['Tanggal'].dt.day\n",
    "df['Hari_ke'] = df['Tanggal'].dt.dayofyear\n",
    "df['Hari_dalam_minggu'] = df['Tanggal'].dt.dayofweek  # 0 = Senin\n",
    "\n",
    "# hapus kolom tanggal asli agar tidak di-one-hot\n",
    "df.drop(columns=['Tanggal'], inplace=True)\n",
    "\n",
    "df_encoded = df.copy()\n",
    "\n",
    "num_cols = df_encoded.select_dtypes(include=['number']).columns.tolist()\n",
    "cat_cols = df_encoded.select_dtypes(exclude=['number']).columns.tolist()\n",
    "\n",
    "print(\"Kolom numerik :\", num_cols)\n",
    "print(\"Kolom kategorikal :\", cat_cols)\n",
    "\n",
    "if len(cat_cols) > 0:\n",
    "    ohe = OneHotEncoder(sparse_output=False, handle_unknown='ignore')\n",
    "    encoded_array = ohe.fit_transform(df_encoded[cat_cols])\n",
    "    encoded_cols = ohe.get_feature_names_out(cat_cols)\n",
    "\n",
    "    encoded_df = pd.DataFrame(encoded_array, columns=encoded_cols, index=df_encoded.index)\n",
    "    df_encoded = pd.concat([df_encoded[num_cols], encoded_df], axis=1)\n",
    "\n",
    "print(\"\\n=== Data Setelah Encoding (dengan fitur waktu) ===\")\n",
    "print(df_encoded.head())\n",
    "print(f\"\\nJumlah kolom sesudah encoding : {len(df_encoded.columns)}\")"
   ]
  },
  {
   "cell_type": "code",
   "execution_count": null,
   "id": "d4279c50",
   "metadata": {},
   "outputs": [
    {
     "name": "stdout",
     "output_type": "stream",
     "text": [
      "=== Contoh 10 baris setelah Feature Engineering ===\n"
     ]
    },
    {
     "data": {
      "application/vnd.microsoft.datawrangler.viewer.v0+json": {
       "columns": [
        {
         "name": "index",
         "rawType": "int64",
         "type": "integer"
        },
        {
         "name": "Jumlah Order",
         "rawType": "int64",
         "type": "integer"
        },
        {
         "name": "Harga",
         "rawType": "int64",
         "type": "integer"
        },
        {
         "name": "Total",
         "rawType": "int64",
         "type": "integer"
        },
        {
         "name": "Bulan",
         "rawType": "int32",
         "type": "integer"
        },
        {
         "name": "Hari_dalam_minggu",
         "rawType": "int32",
         "type": "integer"
        },
        {
         "name": "Harga_per_Item",
         "rawType": "float64",
         "type": "float"
        },
        {
         "name": "Akhir_Pekan",
         "rawType": "int64",
         "type": "integer"
        },
        {
         "name": "Kuartal",
         "rawType": "int64",
         "type": "integer"
        }
       ],
       "ref": "7f3fae93-3ff4-49d9-9742-04077a8c74fb",
       "rows": [
        [
         "0",
         "1000",
         "1800",
         "1800000",
         "8",
         "4",
         "1800.0",
         "0",
         "3"
        ],
        [
         "1",
         "1000",
         "1900",
         "1900000",
         "8",
         "4",
         "1900.0",
         "0",
         "3"
        ],
        [
         "2",
         "1000",
         "1200",
         "1200000",
         "8",
         "4",
         "1200.0",
         "0",
         "3"
        ],
        [
         "3",
         "1000",
         "1550",
         "1550000",
         "8",
         "6",
         "1550.0",
         "1",
         "3"
        ],
        [
         "4",
         "500",
         "1900",
         "950000",
         "8",
         "0",
         "1900.0",
         "0",
         "3"
        ],
        [
         "5",
         "1000",
         "1700",
         "1700000",
         "8",
         "0",
         "1700.0",
         "0",
         "3"
        ],
        [
         "6",
         "1000",
         "1000",
         "1000000",
         "8",
         "1",
         "1000.0",
         "0",
         "3"
        ],
        [
         "7",
         "1500",
         "850",
         "1275000",
         "8",
         "1",
         "850.0",
         "0",
         "3"
        ],
        [
         "8",
         "500",
         "1800",
         "900000",
         "8",
         "1",
         "1800.0",
         "0",
         "3"
        ],
        [
         "9",
         "500",
         "1600",
         "800000",
         "8",
         "2",
         "1600.0",
         "0",
         "3"
        ]
       ],
       "shape": {
        "columns": 8,
        "rows": 10
       }
      },
      "text/html": [
       "<div>\n",
       "<style scoped>\n",
       "    .dataframe tbody tr th:only-of-type {\n",
       "        vertical-align: middle;\n",
       "    }\n",
       "\n",
       "    .dataframe tbody tr th {\n",
       "        vertical-align: top;\n",
       "    }\n",
       "\n",
       "    .dataframe thead th {\n",
       "        text-align: right;\n",
       "    }\n",
       "</style>\n",
       "<table border=\"1\" class=\"dataframe\">\n",
       "  <thead>\n",
       "    <tr style=\"text-align: right;\">\n",
       "      <th></th>\n",
       "      <th>Jumlah Order</th>\n",
       "      <th>Harga</th>\n",
       "      <th>Total</th>\n",
       "      <th>Bulan</th>\n",
       "      <th>Hari_dalam_minggu</th>\n",
       "      <th>Harga_per_Item</th>\n",
       "      <th>Akhir_Pekan</th>\n",
       "      <th>Kuartal</th>\n",
       "    </tr>\n",
       "  </thead>\n",
       "  <tbody>\n",
       "    <tr>\n",
       "      <th>0</th>\n",
       "      <td>1000</td>\n",
       "      <td>1800</td>\n",
       "      <td>1800000</td>\n",
       "      <td>8</td>\n",
       "      <td>4</td>\n",
       "      <td>1800.0</td>\n",
       "      <td>0</td>\n",
       "      <td>3</td>\n",
       "    </tr>\n",
       "    <tr>\n",
       "      <th>1</th>\n",
       "      <td>1000</td>\n",
       "      <td>1900</td>\n",
       "      <td>1900000</td>\n",
       "      <td>8</td>\n",
       "      <td>4</td>\n",
       "      <td>1900.0</td>\n",
       "      <td>0</td>\n",
       "      <td>3</td>\n",
       "    </tr>\n",
       "    <tr>\n",
       "      <th>2</th>\n",
       "      <td>1000</td>\n",
       "      <td>1200</td>\n",
       "      <td>1200000</td>\n",
       "      <td>8</td>\n",
       "      <td>4</td>\n",
       "      <td>1200.0</td>\n",
       "      <td>0</td>\n",
       "      <td>3</td>\n",
       "    </tr>\n",
       "    <tr>\n",
       "      <th>3</th>\n",
       "      <td>1000</td>\n",
       "      <td>1550</td>\n",
       "      <td>1550000</td>\n",
       "      <td>8</td>\n",
       "      <td>6</td>\n",
       "      <td>1550.0</td>\n",
       "      <td>1</td>\n",
       "      <td>3</td>\n",
       "    </tr>\n",
       "    <tr>\n",
       "      <th>4</th>\n",
       "      <td>500</td>\n",
       "      <td>1900</td>\n",
       "      <td>950000</td>\n",
       "      <td>8</td>\n",
       "      <td>0</td>\n",
       "      <td>1900.0</td>\n",
       "      <td>0</td>\n",
       "      <td>3</td>\n",
       "    </tr>\n",
       "    <tr>\n",
       "      <th>5</th>\n",
       "      <td>1000</td>\n",
       "      <td>1700</td>\n",
       "      <td>1700000</td>\n",
       "      <td>8</td>\n",
       "      <td>0</td>\n",
       "      <td>1700.0</td>\n",
       "      <td>0</td>\n",
       "      <td>3</td>\n",
       "    </tr>\n",
       "    <tr>\n",
       "      <th>6</th>\n",
       "      <td>1000</td>\n",
       "      <td>1000</td>\n",
       "      <td>1000000</td>\n",
       "      <td>8</td>\n",
       "      <td>1</td>\n",
       "      <td>1000.0</td>\n",
       "      <td>0</td>\n",
       "      <td>3</td>\n",
       "    </tr>\n",
       "    <tr>\n",
       "      <th>7</th>\n",
       "      <td>1500</td>\n",
       "      <td>850</td>\n",
       "      <td>1275000</td>\n",
       "      <td>8</td>\n",
       "      <td>1</td>\n",
       "      <td>850.0</td>\n",
       "      <td>0</td>\n",
       "      <td>3</td>\n",
       "    </tr>\n",
       "    <tr>\n",
       "      <th>8</th>\n",
       "      <td>500</td>\n",
       "      <td>1800</td>\n",
       "      <td>900000</td>\n",
       "      <td>8</td>\n",
       "      <td>1</td>\n",
       "      <td>1800.0</td>\n",
       "      <td>0</td>\n",
       "      <td>3</td>\n",
       "    </tr>\n",
       "    <tr>\n",
       "      <th>9</th>\n",
       "      <td>500</td>\n",
       "      <td>1600</td>\n",
       "      <td>800000</td>\n",
       "      <td>8</td>\n",
       "      <td>2</td>\n",
       "      <td>1600.0</td>\n",
       "      <td>0</td>\n",
       "      <td>3</td>\n",
       "    </tr>\n",
       "  </tbody>\n",
       "</table>\n",
       "</div>"
      ],
      "text/plain": [
       "   Jumlah Order  Harga    Total  Bulan  Hari_dalam_minggu  Harga_per_Item  \\\n",
       "0          1000   1800  1800000      8                  4          1800.0   \n",
       "1          1000   1900  1900000      8                  4          1900.0   \n",
       "2          1000   1200  1200000      8                  4          1200.0   \n",
       "3          1000   1550  1550000      8                  6          1550.0   \n",
       "4           500   1900   950000      8                  0          1900.0   \n",
       "5          1000   1700  1700000      8                  0          1700.0   \n",
       "6          1000   1000  1000000      8                  1          1000.0   \n",
       "7          1500    850  1275000      8                  1           850.0   \n",
       "8           500   1800   900000      8                  1          1800.0   \n",
       "9           500   1600   800000      8                  2          1600.0   \n",
       "\n",
       "   Akhir_Pekan  Kuartal  \n",
       "0            0        3  \n",
       "1            0        3  \n",
       "2            0        3  \n",
       "3            1        3  \n",
       "4            0        3  \n",
       "5            0        3  \n",
       "6            0        3  \n",
       "7            0        3  \n",
       "8            0        3  \n",
       "9            0        3  "
      ]
     },
     "metadata": {},
     "output_type": "display_data"
    },
    {
     "name": "stdout",
     "output_type": "stream",
     "text": [
      "\n",
      "Jumlah kolom setelah feature engineering: 93\n",
      "Kolom baru yang ditambahkan: ['Harga_per_Item', 'Akhir_Pekan', 'Kuartal']\n"
     ]
    }
   ],
   "source": [
    "# 5. Feature Engineering\n",
    "source_df = df_encoded.copy() \n",
    "\n",
    "\n",
    "required_numeric = [\"Jumlah Order\", \"Harga\", \"Total\", \"Bulan\", \"Hari_dalam_minggu\"]\n",
    "missing = [c for c in required_numeric if c not in source_df.columns]\n",
    "if missing:\n",
    "    raise KeyError(f\"Kolom wajib berikut belum ada di DataFrame: {missing}\\n\"\n",
    "                   f\"Pastikan langkah encoding & ekstraksi tanggal sudah dijalankan.\")\n",
    "\n",
    "df_fe = source_df.copy()\n",
    "# Fitur 1: Harga per Item\n",
    "df_fe[\"Harga_per_Item\"] = df_fe[\"Total\"] / df_fe[\"Jumlah Order\"].replace(0, np.nan)\n",
    "df_fe[\"Harga_per_Item\"] = df_fe[\"Harga_per_Item\"].replace([np.inf, -np.inf], np.nan).fillna(0)\n",
    "# Fitur 2: Akhir Pekan (1 jika Sabtu/Minggu, 0 jika Senin-Jumat)\n",
    "df_fe[\"Akhir_Pekan\"] = (df_fe[\"Hari_dalam_minggu\"] >= 5).astype(int)\n",
    "# Fitur 3: Kuartal (1-4)\n",
    "df_fe[\"Kuartal\"] = np.ceil(df_fe[\"Bulan\"] / 3).astype(int)\n",
    "\n",
    "new_cols = [\"Harga_per_Item\", \"Akhir_Pekan\", \"Kuartal\"] \n",
    "preview_cols = [c for c in [\"Jumlah Order\", \"Harga\", \"Total\", \"Bulan\", \"Hari_dalam_minggu\"] if c in df_fe.columns] + new_cols\n",
    "\n",
    "print(\"=== Contoh 10 baris setelah Feature Engineering ===\")\n",
    "display(df_fe[preview_cols].head(10))\n",
    "\n",
    "print(f\"\\nJumlah kolom setelah feature engineering: {len(df_fe.columns)}\")\n",
    "print(f\"Kolom baru yang ditambahkan: {new_cols}\")\n"
   ]
  },
  {
   "cell_type": "code",
   "execution_count": null,
   "id": "6653a4db",
   "metadata": {},
   "outputs": [
    {
     "name": "stdout",
     "output_type": "stream",
     "text": [
      "=== HASIL SPLITTING DATA ===\n",
      "Total dataset : 897 data\n",
      "Data training : 717 data (79.9%)\n",
      "Data testing  : 180 data (20.1%)\n",
      "\n",
      "=== Contoh Data Training ===\n"
     ]
    },
    {
     "data": {
      "application/vnd.microsoft.datawrangler.viewer.v0+json": {
       "columns": [
        {
         "name": "index",
         "rawType": "int64",
         "type": "integer"
        },
        {
         "name": "Jumlah Order",
         "rawType": "int64",
         "type": "integer"
        },
        {
         "name": "Harga",
         "rawType": "int64",
         "type": "integer"
        },
        {
         "name": "Tahun",
         "rawType": "int32",
         "type": "integer"
        },
        {
         "name": "Bulan",
         "rawType": "int32",
         "type": "integer"
        },
        {
         "name": "Hari",
         "rawType": "int32",
         "type": "integer"
        },
        {
         "name": "Hari_ke",
         "rawType": "int32",
         "type": "integer"
        },
        {
         "name": "Hari_dalam_minggu",
         "rawType": "int32",
         "type": "integer"
        },
        {
         "name": "Jenis Produk_245",
         "rawType": "float64",
         "type": "float"
        },
        {
         "name": "Jenis Produk_260Glossy",
         "rawType": "float64",
         "type": "float"
        },
        {
         "name": "Jenis Produk_Bowl800Ml",
         "rawType": "float64",
         "type": "float"
        },
        {
         "name": "Jenis Produk_Cemerlangindahselaras",
         "rawType": "float64",
         "type": "float"
        },
        {
         "name": "Jenis Produk_Craf270",
         "rawType": "float64",
         "type": "float"
        },
        {
         "name": "Jenis Produk_Craft270",
         "rawType": "float64",
         "type": "float"
        },
        {
         "name": "Jenis Produk_Craft275",
         "rawType": "float64",
         "type": "float"
        },
        {
         "name": "Jenis Produk_Craft275Biasa",
         "rawType": "float64",
         "type": "float"
        },
        {
         "name": "Jenis Produk_Craft290",
         "rawType": "float64",
         "type": "float"
        },
        {
         "name": "Jenis Produk_Craft290Foodpak",
         "rawType": "float64",
         "type": "float"
        },
        {
         "name": "Jenis Produk_Craft290Laminasi",
         "rawType": "float64",
         "type": "float"
        },
        {
         "name": "Jenis Produk_Craft290Laminasi8",
         "rawType": "float64",
         "type": "float"
        },
        {
         "name": "Jenis Produk_Craft300",
         "rawType": "float64",
         "type": "float"
        },
        {
         "name": "Jenis Produk_Craft310",
         "rawType": "float64",
         "type": "float"
        },
        {
         "name": "Jenis Produk_Craftbiasa310",
         "rawType": "float64",
         "type": "float"
        },
        {
         "name": "Jenis Produk_Craftfoodpak",
         "rawType": "float64",
         "type": "float"
        },
        {
         "name": "Jenis Produk_Craftfoodpak290",
         "rawType": "float64",
         "type": "float"
        },
        {
         "name": "Jenis Produk_Craftfoodpak2900",
         "rawType": "float64",
         "type": "float"
        },
        {
         "name": "Jenis Produk_Craftfoodpak290Laminasi",
         "rawType": "float64",
         "type": "float"
        },
        {
         "name": "Jenis Produk_Craftlaminasi",
         "rawType": "float64",
         "type": "float"
        },
        {
         "name": "Jenis Produk_Craftlaminasi290",
         "rawType": "float64",
         "type": "float"
        },
        {
         "name": "Jenis Produk_Craftlaminasi8",
         "rawType": "float64",
         "type": "float"
        },
        {
         "name": "Jenis Produk_Craftpackaging8",
         "rawType": "float64",
         "type": "float"
        },
        {
         "name": "Jenis Produk_Cupstock",
         "rawType": "float64",
         "type": "float"
        },
        {
         "name": "Jenis Produk_Dupleks270",
         "rawType": "float64",
         "type": "float"
        },
        {
         "name": "Jenis Produk_Dupleks270Eplex",
         "rawType": "float64",
         "type": "float"
        },
        {
         "name": "Jenis Produk_Dupleks270Laminating",
         "rawType": "float64",
         "type": "float"
        },
        {
         "name": "Jenis Produk_Dupleks310",
         "rawType": "float64",
         "type": "float"
        },
        {
         "name": "Jenis Produk_Dupleks310Eplex",
         "rawType": "float64",
         "type": "float"
        },
        {
         "name": "Jenis Produk_Dupleks310Ik",
         "rawType": "float64",
         "type": "float"
        },
        {
         "name": "Jenis Produk_Dupleks310P",
         "rawType": "float64",
         "type": "float"
        },
        {
         "name": "Jenis Produk_Dupleks350",
         "rawType": "float64",
         "type": "float"
        },
        {
         "name": "Jenis Produk_Dupleks350Ik",
         "rawType": "float64",
         "type": "float"
        },
        {
         "name": "Jenis Produk_Dupleks350P",
         "rawType": "float64",
         "type": "float"
        },
        {
         "name": "Jenis Produk_Dupleks400",
         "rawType": "float64",
         "type": "float"
        },
        {
         "name": "Jenis Produk_Foodpak245",
         "rawType": "float64",
         "type": "float"
        },
        {
         "name": "Jenis Produk_Foodpak245Matte",
         "rawType": "float64",
         "type": "float"
        },
        {
         "name": "Jenis Produk_Foodpak260",
         "rawType": "float64",
         "type": "float"
        },
        {
         "name": "Jenis Produk_Foodpak260Glossy",
         "rawType": "float64",
         "type": "float"
        },
        {
         "name": "Jenis Produk_Foodpak260Matte",
         "rawType": "float64",
         "type": "float"
        },
        {
         "name": "Jenis Produk_Foodpak295",
         "rawType": "float64",
         "type": "float"
        },
        {
         "name": "Jenis Produk_Foodpak295Matte",
         "rawType": "float64",
         "type": "float"
        },
        {
         "name": "Jenis Produk_Foodpakglossy",
         "rawType": "float64",
         "type": "float"
        },
        {
         "name": "Jenis Produk_Foodpakglossy260",
         "rawType": "float64",
         "type": "float"
        },
        {
         "name": "Jenis Produk_Foodpakglossy320",
         "rawType": "float64",
         "type": "float"
        },
        {
         "name": "Jenis Produk_Foodpakmatte",
         "rawType": "float64",
         "type": "float"
        },
        {
         "name": "Jenis Produk_Foodpakmatte245",
         "rawType": "float64",
         "type": "float"
        },
        {
         "name": "Jenis Produk_Foodpakmatte295",
         "rawType": "float64",
         "type": "float"
        },
        {
         "name": "Jenis Produk_Greaseproof",
         "rawType": "float64",
         "type": "float"
        },
        {
         "name": "Jenis Produk_Greaseproof32Gram",
         "rawType": "float64",
         "type": "float"
        },
        {
         "name": "Jenis Produk_Greaseproof40",
         "rawType": "float64",
         "type": "float"
        },
        {
         "name": "Jenis Produk_Greaseproof40Gram",
         "rawType": "float64",
         "type": "float"
        },
        {
         "name": "Jenis Produk_Greaseproofplano",
         "rawType": "float64",
         "type": "float"
        },
        {
         "name": "Jenis Produk_Greseproof40",
         "rawType": "float64",
         "type": "float"
        },
        {
         "name": "Jenis Produk_Gressproff",
         "rawType": "float64",
         "type": "float"
        },
        {
         "name": "Jenis Produk_Hvs",
         "rawType": "float64",
         "type": "float"
        },
        {
         "name": "Jenis Produk_Ivory",
         "rawType": "float64",
         "type": "float"
        },
        {
         "name": "Jenis Produk_Ivory210",
         "rawType": "float64",
         "type": "float"
        },
        {
         "name": "Jenis Produk_Ivory230",
         "rawType": "float64",
         "type": "float"
        },
        {
         "name": "Jenis Produk_Ivory230+Laminasialas",
         "rawType": "float64",
         "type": "float"
        },
        {
         "name": "Jenis Produk_Ivory230+Laminasidoff",
         "rawType": "float64",
         "type": "float"
        },
        {
         "name": "Jenis Produk_Ivory230+Laminating",
         "rawType": "float64",
         "type": "float"
        },
        {
         "name": "Jenis Produk_Ivory230Gc",
         "rawType": "float64",
         "type": "float"
        },
        {
         "name": "Jenis Produk_Ivory245Matte",
         "rawType": "float64",
         "type": "float"
        },
        {
         "name": "Jenis Produk_Ivory250",
         "rawType": "float64",
         "type": "float"
        },
        {
         "name": "Jenis Produk_Ivory250+Laminasi",
         "rawType": "float64",
         "type": "float"
        },
        {
         "name": "Jenis Produk_Ivory260Matte",
         "rawType": "float64",
         "type": "float"
        },
        {
         "name": "Jenis Produk_Ivory270",
         "rawType": "float64",
         "type": "float"
        },
        {
         "name": "Jenis Produk_Ivory300",
         "rawType": "float64",
         "type": "float"
        },
        {
         "name": "Jenis Produk_Ivory350",
         "rawType": "float64",
         "type": "float"
        },
        {
         "name": "Jenis Produk_Kertassisaivory300",
         "rawType": "float64",
         "type": "float"
        },
        {
         "name": "Jenis Produk_Kertasstikera3",
         "rawType": "float64",
         "type": "float"
        },
        {
         "name": "Jenis Produk_Kinstruk130",
         "rawType": "float64",
         "type": "float"
        },
        {
         "name": "Jenis Produk_Kinstruk150",
         "rawType": "float64",
         "type": "float"
        },
        {
         "name": "Jenis Produk_Kinstruk150Gsm",
         "rawType": "float64",
         "type": "float"
        },
        {
         "name": "Jenis Produk_Kinstruk250",
         "rawType": "float64",
         "type": "float"
        },
        {
         "name": "Jenis Produk_Papercup8Oz",
         "rawType": "float64",
         "type": "float"
        },
        {
         "name": "Jenis Produk_Ptsariindah",
         "rawType": "float64",
         "type": "float"
        },
        {
         "name": "Jenis Produk_Sisakertas",
         "rawType": "float64",
         "type": "float"
        },
        {
         "name": "Jenis Produk_Stikerkertas",
         "rawType": "float64",
         "type": "float"
        },
        {
         "name": "Jenis Produk_Unbleached",
         "rawType": "float64",
         "type": "float"
        },
        {
         "name": "Jenis Produk_Unbleaching",
         "rawType": "float64",
         "type": "float"
        },
        {
         "name": "Harga_per_Item",
         "rawType": "float64",
         "type": "float"
        },
        {
         "name": "Akhir_Pekan",
         "rawType": "int64",
         "type": "integer"
        },
        {
         "name": "Kuartal",
         "rawType": "int64",
         "type": "integer"
        }
       ],
       "ref": "4fad1897-4490-4c19-a369-dbe53f8f69bd",
       "rows": [
        [
         "870",
         "1000",
         "1500",
         "2023",
         "11",
         "3",
         "307",
         "4",
         "0.0",
         "0.0",
         "0.0",
         "0.0",
         "0.0",
         "0.0",
         "0.0",
         "0.0",
         "0.0",
         "0.0",
         "0.0",
         "0.0",
         "0.0",
         "0.0",
         "0.0",
         "0.0",
         "0.0",
         "0.0",
         "0.0",
         "0.0",
         "0.0",
         "0.0",
         "0.0",
         "0.0",
         "0.0",
         "0.0",
         "0.0",
         "0.0",
         "0.0",
         "0.0",
         "0.0",
         "0.0",
         "0.0",
         "0.0",
         "0.0",
         "0.0",
         "0.0",
         "0.0",
         "0.0",
         "0.0",
         "0.0",
         "0.0",
         "0.0",
         "0.0",
         "0.0",
         "0.0",
         "1.0",
         "0.0",
         "0.0",
         "0.0",
         "0.0",
         "0.0",
         "0.0",
         "0.0",
         "0.0",
         "0.0",
         "0.0",
         "0.0",
         "0.0",
         "0.0",
         "0.0",
         "0.0",
         "0.0",
         "0.0",
         "0.0",
         "0.0",
         "0.0",
         "0.0",
         "0.0",
         "0.0",
         "0.0",
         "0.0",
         "0.0",
         "0.0",
         "0.0",
         "0.0",
         "0.0",
         "0.0",
         "0.0",
         "0.0",
         "0.0",
         "0.0",
         "1500.0",
         "0",
         "4"
        ],
        [
         "740",
         "1000",
         "2600",
         "2023",
         "9",
         "3",
         "246",
         "6",
         "0.0",
         "0.0",
         "0.0",
         "0.0",
         "0.0",
         "0.0",
         "0.0",
         "0.0",
         "0.0",
         "0.0",
         "0.0",
         "0.0",
         "0.0",
         "0.0",
         "0.0",
         "0.0",
         "0.0",
         "0.0",
         "0.0",
         "0.0",
         "0.0",
         "0.0",
         "0.0",
         "0.0",
         "0.0",
         "0.0",
         "0.0",
         "0.0",
         "0.0",
         "0.0",
         "0.0",
         "0.0",
         "0.0",
         "0.0",
         "0.0",
         "0.0",
         "0.0",
         "0.0",
         "0.0",
         "0.0",
         "0.0",
         "0.0",
         "0.0",
         "0.0",
         "0.0",
         "0.0",
         "0.0",
         "0.0",
         "0.0",
         "0.0",
         "0.0",
         "0.0",
         "0.0",
         "0.0",
         "0.0",
         "0.0",
         "0.0",
         "0.0",
         "0.0",
         "0.0",
         "0.0",
         "0.0",
         "0.0",
         "0.0",
         "0.0",
         "0.0",
         "0.0",
         "0.0",
         "0.0",
         "1.0",
         "0.0",
         "0.0",
         "0.0",
         "0.0",
         "0.0",
         "0.0",
         "0.0",
         "0.0",
         "0.0",
         "0.0",
         "0.0",
         "0.0",
         "2600.0",
         "1",
         "3"
        ],
        [
         "231",
         "2000",
         "1975",
         "2022",
         "12",
         "14",
         "348",
         "2",
         "0.0",
         "0.0",
         "0.0",
         "0.0",
         "0.0",
         "0.0",
         "0.0",
         "0.0",
         "0.0",
         "0.0",
         "0.0",
         "0.0",
         "0.0",
         "0.0",
         "0.0",
         "0.0",
         "0.0",
         "0.0",
         "0.0",
         "0.0",
         "0.0",
         "0.0",
         "0.0",
         "0.0",
         "0.0",
         "0.0",
         "0.0",
         "0.0",
         "0.0",
         "0.0",
         "0.0",
         "1.0",
         "0.0",
         "0.0",
         "0.0",
         "0.0",
         "0.0",
         "0.0",
         "0.0",
         "0.0",
         "0.0",
         "0.0",
         "0.0",
         "0.0",
         "0.0",
         "0.0",
         "0.0",
         "0.0",
         "0.0",
         "0.0",
         "0.0",
         "0.0",
         "0.0",
         "0.0",
         "0.0",
         "0.0",
         "0.0",
         "0.0",
         "0.0",
         "0.0",
         "0.0",
         "0.0",
         "0.0",
         "0.0",
         "0.0",
         "0.0",
         "0.0",
         "0.0",
         "0.0",
         "0.0",
         "0.0",
         "0.0",
         "0.0",
         "0.0",
         "0.0",
         "0.0",
         "0.0",
         "0.0",
         "0.0",
         "0.0",
         "0.0",
         "0.0",
         "1975.0",
         "0",
         "4"
        ],
        [
         "388",
         "2000",
         "945",
         "2023",
         "3",
         "14",
         "73",
         "1",
         "0.0",
         "0.0",
         "0.0",
         "0.0",
         "0.0",
         "0.0",
         "0.0",
         "0.0",
         "0.0",
         "0.0",
         "0.0",
         "0.0",
         "0.0",
         "0.0",
         "0.0",
         "0.0",
         "0.0",
         "0.0",
         "0.0",
         "0.0",
         "0.0",
         "0.0",
         "0.0",
         "0.0",
         "0.0",
         "0.0",
         "0.0",
         "0.0",
         "0.0",
         "0.0",
         "0.0",
         "0.0",
         "0.0",
         "0.0",
         "0.0",
         "0.0",
         "0.0",
         "0.0",
         "0.0",
         "0.0",
         "0.0",
         "0.0",
         "0.0",
         "0.0",
         "0.0",
         "0.0",
         "0.0",
         "0.0",
         "0.0",
         "0.0",
         "0.0",
         "0.0",
         "0.0",
         "0.0",
         "0.0",
         "0.0",
         "0.0",
         "0.0",
         "1.0",
         "0.0",
         "0.0",
         "0.0",
         "0.0",
         "0.0",
         "0.0",
         "0.0",
         "0.0",
         "0.0",
         "0.0",
         "0.0",
         "0.0",
         "0.0",
         "0.0",
         "0.0",
         "0.0",
         "0.0",
         "0.0",
         "0.0",
         "0.0",
         "0.0",
         "0.0",
         "0.0",
         "945.0",
         "0",
         "1"
        ],
        [
         "118",
         "1000",
         "1200",
         "2022",
         "10",
         "19",
         "292",
         "2",
         "0.0",
         "0.0",
         "0.0",
         "0.0",
         "0.0",
         "0.0",
         "0.0",
         "0.0",
         "0.0",
         "0.0",
         "0.0",
         "0.0",
         "0.0",
         "0.0",
         "0.0",
         "0.0",
         "1.0",
         "0.0",
         "0.0",
         "0.0",
         "0.0",
         "0.0",
         "0.0",
         "0.0",
         "0.0",
         "0.0",
         "0.0",
         "0.0",
         "0.0",
         "0.0",
         "0.0",
         "0.0",
         "0.0",
         "0.0",
         "0.0",
         "0.0",
         "0.0",
         "0.0",
         "0.0",
         "0.0",
         "0.0",
         "0.0",
         "0.0",
         "0.0",
         "0.0",
         "0.0",
         "0.0",
         "0.0",
         "0.0",
         "0.0",
         "0.0",
         "0.0",
         "0.0",
         "0.0",
         "0.0",
         "0.0",
         "0.0",
         "0.0",
         "0.0",
         "0.0",
         "0.0",
         "0.0",
         "0.0",
         "0.0",
         "0.0",
         "0.0",
         "0.0",
         "0.0",
         "0.0",
         "0.0",
         "0.0",
         "0.0",
         "0.0",
         "0.0",
         "0.0",
         "0.0",
         "0.0",
         "0.0",
         "0.0",
         "0.0",
         "0.0",
         "0.0",
         "1200.0",
         "0",
         "4"
        ]
       ],
       "shape": {
        "columns": 92,
        "rows": 5
       }
      },
      "text/html": [
       "<div>\n",
       "<style scoped>\n",
       "    .dataframe tbody tr th:only-of-type {\n",
       "        vertical-align: middle;\n",
       "    }\n",
       "\n",
       "    .dataframe tbody tr th {\n",
       "        vertical-align: top;\n",
       "    }\n",
       "\n",
       "    .dataframe thead th {\n",
       "        text-align: right;\n",
       "    }\n",
       "</style>\n",
       "<table border=\"1\" class=\"dataframe\">\n",
       "  <thead>\n",
       "    <tr style=\"text-align: right;\">\n",
       "      <th></th>\n",
       "      <th>Jumlah Order</th>\n",
       "      <th>Harga</th>\n",
       "      <th>Tahun</th>\n",
       "      <th>Bulan</th>\n",
       "      <th>Hari</th>\n",
       "      <th>Hari_ke</th>\n",
       "      <th>Hari_dalam_minggu</th>\n",
       "      <th>Jenis Produk_245</th>\n",
       "      <th>Jenis Produk_260Glossy</th>\n",
       "      <th>Jenis Produk_Bowl800Ml</th>\n",
       "      <th>...</th>\n",
       "      <th>Jenis Produk_Kinstruk250</th>\n",
       "      <th>Jenis Produk_Papercup8Oz</th>\n",
       "      <th>Jenis Produk_Ptsariindah</th>\n",
       "      <th>Jenis Produk_Sisakertas</th>\n",
       "      <th>Jenis Produk_Stikerkertas</th>\n",
       "      <th>Jenis Produk_Unbleached</th>\n",
       "      <th>Jenis Produk_Unbleaching</th>\n",
       "      <th>Harga_per_Item</th>\n",
       "      <th>Akhir_Pekan</th>\n",
       "      <th>Kuartal</th>\n",
       "    </tr>\n",
       "  </thead>\n",
       "  <tbody>\n",
       "    <tr>\n",
       "      <th>870</th>\n",
       "      <td>1000</td>\n",
       "      <td>1500</td>\n",
       "      <td>2023</td>\n",
       "      <td>11</td>\n",
       "      <td>3</td>\n",
       "      <td>307</td>\n",
       "      <td>4</td>\n",
       "      <td>0.0</td>\n",
       "      <td>0.0</td>\n",
       "      <td>0.0</td>\n",
       "      <td>...</td>\n",
       "      <td>0.0</td>\n",
       "      <td>0.0</td>\n",
       "      <td>0.0</td>\n",
       "      <td>0.0</td>\n",
       "      <td>0.0</td>\n",
       "      <td>0.0</td>\n",
       "      <td>0.0</td>\n",
       "      <td>1500.0</td>\n",
       "      <td>0</td>\n",
       "      <td>4</td>\n",
       "    </tr>\n",
       "    <tr>\n",
       "      <th>740</th>\n",
       "      <td>1000</td>\n",
       "      <td>2600</td>\n",
       "      <td>2023</td>\n",
       "      <td>9</td>\n",
       "      <td>3</td>\n",
       "      <td>246</td>\n",
       "      <td>6</td>\n",
       "      <td>0.0</td>\n",
       "      <td>0.0</td>\n",
       "      <td>0.0</td>\n",
       "      <td>...</td>\n",
       "      <td>0.0</td>\n",
       "      <td>0.0</td>\n",
       "      <td>0.0</td>\n",
       "      <td>0.0</td>\n",
       "      <td>0.0</td>\n",
       "      <td>0.0</td>\n",
       "      <td>0.0</td>\n",
       "      <td>2600.0</td>\n",
       "      <td>1</td>\n",
       "      <td>3</td>\n",
       "    </tr>\n",
       "    <tr>\n",
       "      <th>231</th>\n",
       "      <td>2000</td>\n",
       "      <td>1975</td>\n",
       "      <td>2022</td>\n",
       "      <td>12</td>\n",
       "      <td>14</td>\n",
       "      <td>348</td>\n",
       "      <td>2</td>\n",
       "      <td>0.0</td>\n",
       "      <td>0.0</td>\n",
       "      <td>0.0</td>\n",
       "      <td>...</td>\n",
       "      <td>0.0</td>\n",
       "      <td>0.0</td>\n",
       "      <td>0.0</td>\n",
       "      <td>0.0</td>\n",
       "      <td>0.0</td>\n",
       "      <td>0.0</td>\n",
       "      <td>0.0</td>\n",
       "      <td>1975.0</td>\n",
       "      <td>0</td>\n",
       "      <td>4</td>\n",
       "    </tr>\n",
       "    <tr>\n",
       "      <th>388</th>\n",
       "      <td>2000</td>\n",
       "      <td>945</td>\n",
       "      <td>2023</td>\n",
       "      <td>3</td>\n",
       "      <td>14</td>\n",
       "      <td>73</td>\n",
       "      <td>1</td>\n",
       "      <td>0.0</td>\n",
       "      <td>0.0</td>\n",
       "      <td>0.0</td>\n",
       "      <td>...</td>\n",
       "      <td>0.0</td>\n",
       "      <td>0.0</td>\n",
       "      <td>0.0</td>\n",
       "      <td>0.0</td>\n",
       "      <td>0.0</td>\n",
       "      <td>0.0</td>\n",
       "      <td>0.0</td>\n",
       "      <td>945.0</td>\n",
       "      <td>0</td>\n",
       "      <td>1</td>\n",
       "    </tr>\n",
       "    <tr>\n",
       "      <th>118</th>\n",
       "      <td>1000</td>\n",
       "      <td>1200</td>\n",
       "      <td>2022</td>\n",
       "      <td>10</td>\n",
       "      <td>19</td>\n",
       "      <td>292</td>\n",
       "      <td>2</td>\n",
       "      <td>0.0</td>\n",
       "      <td>0.0</td>\n",
       "      <td>0.0</td>\n",
       "      <td>...</td>\n",
       "      <td>0.0</td>\n",
       "      <td>0.0</td>\n",
       "      <td>0.0</td>\n",
       "      <td>0.0</td>\n",
       "      <td>0.0</td>\n",
       "      <td>0.0</td>\n",
       "      <td>0.0</td>\n",
       "      <td>1200.0</td>\n",
       "      <td>0</td>\n",
       "      <td>4</td>\n",
       "    </tr>\n",
       "  </tbody>\n",
       "</table>\n",
       "<p>5 rows × 92 columns</p>\n",
       "</div>"
      ],
      "text/plain": [
       "     Jumlah Order  Harga  Tahun  Bulan  Hari  Hari_ke  Hari_dalam_minggu  \\\n",
       "870          1000   1500   2023     11     3      307                  4   \n",
       "740          1000   2600   2023      9     3      246                  6   \n",
       "231          2000   1975   2022     12    14      348                  2   \n",
       "388          2000    945   2023      3    14       73                  1   \n",
       "118          1000   1200   2022     10    19      292                  2   \n",
       "\n",
       "     Jenis Produk_245  Jenis Produk_260Glossy  Jenis Produk_Bowl800Ml  ...  \\\n",
       "870               0.0                     0.0                     0.0  ...   \n",
       "740               0.0                     0.0                     0.0  ...   \n",
       "231               0.0                     0.0                     0.0  ...   \n",
       "388               0.0                     0.0                     0.0  ...   \n",
       "118               0.0                     0.0                     0.0  ...   \n",
       "\n",
       "     Jenis Produk_Kinstruk250  Jenis Produk_Papercup8Oz  \\\n",
       "870                       0.0                       0.0   \n",
       "740                       0.0                       0.0   \n",
       "231                       0.0                       0.0   \n",
       "388                       0.0                       0.0   \n",
       "118                       0.0                       0.0   \n",
       "\n",
       "     Jenis Produk_Ptsariindah  Jenis Produk_Sisakertas  \\\n",
       "870                       0.0                      0.0   \n",
       "740                       0.0                      0.0   \n",
       "231                       0.0                      0.0   \n",
       "388                       0.0                      0.0   \n",
       "118                       0.0                      0.0   \n",
       "\n",
       "     Jenis Produk_Stikerkertas  Jenis Produk_Unbleached  \\\n",
       "870                        0.0                      0.0   \n",
       "740                        0.0                      0.0   \n",
       "231                        0.0                      0.0   \n",
       "388                        0.0                      0.0   \n",
       "118                        0.0                      0.0   \n",
       "\n",
       "     Jenis Produk_Unbleaching  Harga_per_Item  Akhir_Pekan  Kuartal  \n",
       "870                       0.0          1500.0            0        4  \n",
       "740                       0.0          2600.0            1        3  \n",
       "231                       0.0          1975.0            0        4  \n",
       "388                       0.0           945.0            0        1  \n",
       "118                       0.0          1200.0            0        4  \n",
       "\n",
       "[5 rows x 92 columns]"
      ]
     },
     "metadata": {},
     "output_type": "display_data"
    },
    {
     "name": "stdout",
     "output_type": "stream",
     "text": [
      "\n",
      "=== Contoh Target Training ===\n"
     ]
    },
    {
     "data": {
      "application/vnd.microsoft.datawrangler.viewer.v0+json": {
       "columns": [
        {
         "name": "index",
         "rawType": "int64",
         "type": "integer"
        },
        {
         "name": "Total",
         "rawType": "int64",
         "type": "integer"
        }
       ],
       "ref": "df864d91-b2d0-410a-a5a7-4f9c7b1a06dc",
       "rows": [
        [
         "870",
         "1500000"
        ],
        [
         "740",
         "2600000"
        ],
        [
         "231",
         "3950000"
        ],
        [
         "388",
         "1890000"
        ],
        [
         "118",
         "1200000"
        ]
       ],
       "shape": {
        "columns": 1,
        "rows": 5
       }
      },
      "text/plain": [
       "870    1500000\n",
       "740    2600000\n",
       "231    3950000\n",
       "388    1890000\n",
       "118    1200000\n",
       "Name: Total, dtype: int64"
      ]
     },
     "metadata": {},
     "output_type": "display_data"
    }
   ],
   "source": [
    "# 6. Data Splitting\n",
    "df_final = df_fe.copy()\n",
    "\n",
    "target_col = 'Total'\n",
    "\n",
    "X = df_final.drop(columns=[target_col])\n",
    "y = df_final[target_col]\n",
    "\n",
    "# Pisahkan data menjadi training dan testing\n",
    "X_train, X_test, y_train, y_test = train_test_split(\n",
    "    X, y, test_size=0.2, random_state=42, shuffle=True\n",
    ")\n",
    "\n",
    "print(\"=== HASIL SPLITTING DATA ===\")\n",
    "print(f\"Total dataset : {len(df_final)} data\")\n",
    "print(f\"Data training : {len(X_train)} data ({len(X_train)/len(df_final)*100:.1f}%)\")\n",
    "print(f\"Data testing  : {len(X_test)} data ({len(X_test)/len(df_final)*100:.1f}%)\")\n",
    "\n",
    "print(\"\\n=== Contoh Data Training ===\")\n",
    "display(X_train.head())\n",
    "\n",
    "print(\"\\n=== Contoh Target Training ===\")\n",
    "display(y_train.head())"
   ]
  },
  {
   "cell_type": "code",
   "execution_count": 77,
   "id": "197743f6",
   "metadata": {},
   "outputs": [
    {
     "name": "stdout",
     "output_type": "stream",
     "text": [
      "\n",
      "[INFO DATASET]\n",
      "- Jumlah Record: 897\n",
      "- Jumlah Attribute: 9\n",
      "- Nama Attribute: ['Jenis Produk', 'Jumlah Order', 'Harga', 'Total', 'Tahun', 'Bulan', 'Hari', 'Hari_ke', 'Hari_dalam_minggu']\n",
      "- Jumlah Attribute Numerik: 3\n"
     ]
    }
   ],
   "source": [
    "info_dataset = {\n",
    "    \"Jumlah Record\": df.shape[0],\n",
    "    \"Jumlah Attribute\": df.shape[1],\n",
    "    \"Nama Attribute\": list(df.columns),\n",
    "    \"Jumlah Attribute Numerik\": len(numeric_cols),\n",
    "}\n",
    "print(\"\\n[INFO DATASET]\")\n",
    "for k, v in info_dataset.items():\n",
    "    print(f\"- {k}: {v}\")\n"
   ]
  },
  {
   "cell_type": "code",
   "execution_count": 78,
   "id": "53453f80",
   "metadata": {},
   "outputs": [
    {
     "name": "stdout",
     "output_type": "stream",
     "text": [
      "\n",
      "[JUMLAH LABEL KOLOM OBJECT]\n",
      "- Jenis Produk: 82 label unik\n"
     ]
    }
   ],
   "source": [
    "object_cols = df.select_dtypes(include=\"object\").columns.tolist()\n",
    "label_counts = {col: df[col].nunique() for col in object_cols}\n",
    "print(\"\\n[JUMLAH LABEL KOLOM OBJECT]\")\n",
    "for col, n in label_counts.items():\n",
    "    print(f\"- {col}: {n} label unik\")"
   ]
  },
  {
   "cell_type": "code",
   "execution_count": 79,
   "id": "2072270d",
   "metadata": {},
   "outputs": [
    {
     "data": {
      "image/png": "[encoded data removed]",
      "text/plain": [
       "<Figure size 640x480 with 1 Axes>"
      ]
     },
     "metadata": {},
     "output_type": "display_data"
    },
    {
     "data": {
      "image/png": "[encoded data removed]",
      "text/plain": [
       "<Figure size 640x480 with 2 Axes>"
      ]
     },
     "metadata": {},
     "output_type": "display_data"
    }
   ],
   "source": [
    "if \"Total\" in df.columns:\n",
    "    plt.figure()\n",
    "    plt.hist(df[\"Total\"].dropna(), bins=30)\n",
    "    plt.title(\"Distribusi Total Penjualan\")\n",
    "    plt.xlabel(\"Total Penjualan\")\n",
    "    plt.ylabel(\"Frekuensi\")\n",
    "    plt.tight_layout()\n",
    "    plt.show()\n",
    "else:\n",
    "    print(\"\\n[VISUALISASI] Kolom 'Total' tidak ditemukan, histogram dilewati.\")\n",
    "\n",
    "if len(numeric_cols) >= 2:\n",
    "    corr = df[numeric_cols].corr(numeric_only=True)\n",
    "    fig, ax = plt.subplots()\n",
    "    im = ax.imshow(corr.values)\n",
    "\n",
    "    ax.set_xticks(range(len(corr.columns)))\n",
    "    ax.set_yticks(range(len(corr.columns)))\n",
    "    ax.set_xticklabels(corr.columns, rotation=45, ha=\"right\")\n",
    "    ax.set_yticklabels(corr.columns)\n",
    "\n",
    "    for i in range(corr.shape[0]):\n",
    "        for j in range(corr.shape[1]):\n",
    "            ax.text(j, i, f\"{corr.values[i, j]:.2f}\", ha=\"center\", va=\"center\")\n",
    "\n",
    "    plt.title(\"Heatmap Korelasi Atribut Numerik\")\n",
    "    plt.colorbar(im)\n",
    "    plt.tight_layout()\n",
    "    plt.show()\n",
    "else:\n",
    "    print(\"\\n[VISUALISASI] Atribut numerik kurang dari 2, heatmap dilewati.\")"
   ]
  },
  {
   "cell_type": "markdown",
   "id": "706a710f",
   "metadata": {},
   "source": [
    "## Kesimpulan Analisis Data Penjualan\n",
    "\n",
    "1. **Kualitas Data**\n",
    "   - Data sudah dibersihkan: kolom `Tanggal` berhasil dikonversi ke tipe datetime, kolom kategori `Jenis Produk` sudah distandarisasi.\n",
    "   - Tidak ada missing values setelah cleaning, namun terdapat beberapa duplikat yang perlu diperhatikan jika analisis lanjutan dilakukan.\n",
    "\n",
    "2. **Karakteristik Dataset**\n",
    "   - Jumlah record: **1076 baris** dengan **5 atribut**.\n",
    "   - Atribut numerik: `Jumlah Order`, `Harga`, `Total`.\n",
    "   - Atribut kategori: `Jenis Produk` (91 jenis produk unik).\n",
    "\n",
    "3. **Statistik Deskriptif**\n",
    "   - Rata-rata jumlah order: ±1904 (Q2 = 1000).\n",
    "   - Rata-rata harga: ±1704 (Q2 = 1500).\n",
    "   - Rata-rata total transaksi: ±2.345.827 (Q2 = 1.800.000).\n",
    "   - Distribusi data menunjukkan adanya **outlier** dengan nilai total transaksi hingga lebih dari 21 juta.\n",
    "\n",
    "4. **Hasil Visualisasi**\n",
    "   - **Histogram Total Penjualan** menunjukkan distribusi right-skewed: transaksi kecil-menengah lebih dominan, sementara transaksi besar relatif jarang.\n",
    "   - **Heatmap Korelasi** menunjukkan `Jumlah Order` memiliki korelasi paling kuat dengan `Total`, diikuti oleh `Harga`.\n",
    "\n",
    "5. **Insight Utama**\n",
    "   - Variasi jumlah order lebih memengaruhi total penjualan dibanding variasi harga.\n",
    "   - Perusahaan sebaiknya memperhatikan outlier (transaksi sangat besar) karena dapat memengaruhi analisis lanjutan.\n",
    "   - Potensi segmentasi produk bisa dilakukan dengan menganalisis 91 kategori `Jenis Produk`.\n",
    "\n",
    "---\n"
   ]
  }
 ],
 "metadata": {
  "kernelspec": {
   "display_name": "Python 3",
   "language": "python",
   "name": "python3"
  },
  "language_info": {
   "codemirror_mode": {
    "name": "ipython",
    "version": 3
   },
   "file_extension": ".py",
   "mimetype": "text/x-python",
   "name": "python",
   "nbconvert_exporter": "python",
   "pygments_lexer": "ipython3",
   "version": "3.13.7"
  }
 },
 "nbformat": 4,
 "nbformat_minor": 5
}
